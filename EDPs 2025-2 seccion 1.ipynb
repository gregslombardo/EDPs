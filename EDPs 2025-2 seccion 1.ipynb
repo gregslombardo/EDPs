{
 "cells": [
  {
   "cell_type": "markdown",
   "metadata": {},
   "source": [
    "Onda cuadrada"
   ]
  },
  {
   "cell_type": "code",
   "execution_count": 1,
   "metadata": {},
   "outputs": [],
   "source": [
    "import numpy as np\n",
    "import matplotlib.pyplot as plt\n",
    "import imageio.v2 as imageio  \n",
    "\n",
    "def square_wave(x):\n",
    "    return np.where((x % (2 * np.pi)) < np.pi, 1, -1)\n",
    "\n",
    "def fourier_series_approx(x, N):\n",
    "    approximation = np.zeros_like(x)\n",
    "    for k in range(1, N+1):\n",
    "        approximation += (4 / (np.pi * (2*k - 1))) * np.sin((2*k - 1) * x)\n",
    "    return approximation\n",
    "\n",
    "x = np.linspace(-2 * np.pi, 2 * np.pi, 1000)\n",
    "\n",
    "filenames = []\n",
    "\n",
    "for N in [1, 3, 10, 30, 100]:\n",
    "    plt.figure(figsize=(10, 6))\n",
    "    plt.plot(x, square_wave(x), label='Onda cuadrada', color='black', linewidth=2)\n",
    "\n",
    "    plt.plot(x, fourier_series_approx(x, N), label=f'N = {N}')\n",
    "\n",
    "    plt.title(f'Serie de Fourier para una onda cuadrada (N = {N})')\n",
    "    plt.xlabel('x')\n",
    "    plt.ylabel('')\n",
    "    plt.ylim(-1.5, 1.5)\n",
    "    plt.legend()\n",
    "    plt.grid(True)\n",
    "\n",
    "    filename = f'frame_{N}.png'\n",
    "    plt.savefig(filename)\n",
    "    filenames.append(filename)\n",
    "    plt.close()\n",
    "\n",
    "with imageio.get_writer('fourier_series_approx.gif', mode='I', duration=1000) as writer:\n",
    "    for filename in filenames:\n",
    "        image = imageio.imread(filename)\n",
    "        writer.append_data(image)\n",
    "\n",
    "import os\n",
    "for filename in filenames:\n",
    "    os.remove(filename)"
   ]
  },
  {
   "cell_type": "markdown",
   "metadata": {},
   "source": [
    "Mounstro de Weierstrass $\\sum a^n  cos(b^n \\pi x)$"
   ]
  },
  {
   "cell_type": "code",
   "execution_count": 7,
   "metadata": {},
   "outputs": [
    {
     "name": "stderr",
     "output_type": "stream",
     "text": [
      "<>:19: SyntaxWarning: invalid escape sequence '\\s'\n",
      "<>:19: SyntaxWarning: invalid escape sequence '\\s'\n",
      "C:\\Users\\Grego\\AppData\\Local\\Temp\\ipykernel_41876\\2655536089.py:19: SyntaxWarning: invalid escape sequence '\\s'\n",
      "  plt.title(f'Mounstro de Weierstrass $\\sum a^n  cos(b^n \\pi x)$ (N = {N})')\n"
     ]
    }
   ],
   "source": [
    "import numpy as np\n",
    "import matplotlib.pyplot as plt\n",
    "import imageio.v2 as imageio\n",
    "import os\n",
    "\n",
    "def weierstrass_function(x, a, b, N):\n",
    "    return sum(a**n * np.cos(float(b)**n * np.pi * x) for n in range(min(N, 100)))\n",
    "\n",
    "a = 0.5\n",
    "b = 3\n",
    "N_values = [1, 3, 10, 30]\n",
    "\n",
    "x = np.linspace(-2, 2, 10000)\n",
    "filenames = []\n",
    "\n",
    "for N in N_values:\n",
    "    plt.figure(figsize=(10, 6))\n",
    "    plt.plot(x, weierstrass_function(x, a, b, N), label=f'N = {N}', color='black', linewidth=0.7)\n",
    "    plt.title(f'Mounstro de Weierstrass $\\sum a^n  cos(b^n \\pi x)$ (N = {N})')\n",
    "    plt.xlabel('x')\n",
    "    plt.ylabel('W(x)')\n",
    "    plt.ylim(-2, 2)\n",
    "    plt.legend()\n",
    "    plt.grid(True)\n",
    "    \n",
    "    filename = f'weierstrass_{N}.png'\n",
    "    plt.savefig(filename, dpi=300)\n",
    "    filenames.append(filename)\n",
    "    plt.close()\n",
    "\n",
    "with imageio.get_writer('weierstrass_function.gif', mode='I', duration=2000) as writer:\n",
    "    for filename in filenames:\n",
    "        image = imageio.imread(filename)\n",
    "        writer.append_data(image)\n",
    "\n",
    "for filename in filenames:\n",
    "    os.remove(filename)"
   ]
  }
 ],
 "metadata": {
  "kernelspec": {
   "display_name": "base",
   "language": "python",
   "name": "python3"
  },
  "language_info": {
   "codemirror_mode": {
    "name": "ipython",
    "version": 3
   },
   "file_extension": ".py",
   "mimetype": "text/x-python",
   "name": "python",
   "nbconvert_exporter": "python",
   "pygments_lexer": "ipython3",
   "version": "3.12.7"
  }
 },
 "nbformat": 4,
 "nbformat_minor": 2
}
